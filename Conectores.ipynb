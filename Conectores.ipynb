{
  "cells": [
    {
      "cell_type": "markdown",
      "metadata": {
        "id": "view-in-github",
        "colab_type": "text"
      },
      "source": [
        "<a href=\"https://colab.research.google.com/github/Odaleia22/cursos-realizados/blob/main/Conectores.ipynb\" target=\"_parent\"><img src=\"https://colab.research.google.com/assets/colab-badge.svg\" alt=\"Open In Colab\"/></a>"
      ]
    },
    {
      "cell_type": "markdown",
      "metadata": {
        "id": "nzZVi0CUfRYl"
      },
      "source": [
        "# **Conectando dados ao ambiente em nuvem**\n",
        "\n"
      ]
    },
    {
      "cell_type": "markdown",
      "metadata": {
        "id": "wIphu1OhgAbU"
      },
      "source": [
        "# **Google Drive sem salvamento em pasta (download em máquina)**"
      ]
    },
    {
      "cell_type": "code",
      "execution_count": null,
      "metadata": {
        "id": "qBKUWwtQfrRC"
      },
      "outputs": [],
      "source": [
        "# Passo 1: Abertura de bibliotecas\n",
        "from google.colab import files"
      ]
    },
    {
      "cell_type": "code",
      "execution_count": null,
      "metadata": {
        "colab": {
          "background_save": true,
          "base_uri": "https://localhost:8080/",
          "height": 38
        },
        "id": "a6poCRYzgcYd",
        "outputId": "7d77c590-367b-48d2-d9e0-8b006d80cc67"
      },
      "outputs": [
        {
          "data": {
            "text/html": [
              "\n",
              "     <input type=\"file\" id=\"files-e08df538-fded-463e-bcd6-7750efc80f16\" name=\"files[]\" multiple disabled\n",
              "        style=\"border:none\" />\n",
              "     <output id=\"result-e08df538-fded-463e-bcd6-7750efc80f16\">\n",
              "      Upload widget is only available when the cell has been executed in the\n",
              "      current browser session. Please rerun this cell to enable.\n",
              "      </output>\n",
              "      <script>// Copyright 2017 Google LLC\n",
              "//\n",
              "// Licensed under the Apache License, Version 2.0 (the \"License\");\n",
              "// you may not use this file except in compliance with the License.\n",
              "// You may obtain a copy of the License at\n",
              "//\n",
              "//      http://www.apache.org/licenses/LICENSE-2.0\n",
              "//\n",
              "// Unless required by applicable law or agreed to in writing, software\n",
              "// distributed under the License is distributed on an \"AS IS\" BASIS,\n",
              "// WITHOUT WARRANTIES OR CONDITIONS OF ANY KIND, either express or implied.\n",
              "// See the License for the specific language governing permissions and\n",
              "// limitations under the License.\n",
              "\n",
              "/**\n",
              " * @fileoverview Helpers for google.colab Python module.\n",
              " */\n",
              "(function(scope) {\n",
              "function span(text, styleAttributes = {}) {\n",
              "  const element = document.createElement('span');\n",
              "  element.textContent = text;\n",
              "  for (const key of Object.keys(styleAttributes)) {\n",
              "    element.style[key] = styleAttributes[key];\n",
              "  }\n",
              "  return element;\n",
              "}\n",
              "\n",
              "// Max number of bytes which will be uploaded at a time.\n",
              "const MAX_PAYLOAD_SIZE = 100 * 1024;\n",
              "\n",
              "function _uploadFiles(inputId, outputId) {\n",
              "  const steps = uploadFilesStep(inputId, outputId);\n",
              "  const outputElement = document.getElementById(outputId);\n",
              "  // Cache steps on the outputElement to make it available for the next call\n",
              "  // to uploadFilesContinue from Python.\n",
              "  outputElement.steps = steps;\n",
              "\n",
              "  return _uploadFilesContinue(outputId);\n",
              "}\n",
              "\n",
              "// This is roughly an async generator (not supported in the browser yet),\n",
              "// where there are multiple asynchronous steps and the Python side is going\n",
              "// to poll for completion of each step.\n",
              "// This uses a Promise to block the python side on completion of each step,\n",
              "// then passes the result of the previous step as the input to the next step.\n",
              "function _uploadFilesContinue(outputId) {\n",
              "  const outputElement = document.getElementById(outputId);\n",
              "  const steps = outputElement.steps;\n",
              "\n",
              "  const next = steps.next(outputElement.lastPromiseValue);\n",
              "  return Promise.resolve(next.value.promise).then((value) => {\n",
              "    // Cache the last promise value to make it available to the next\n",
              "    // step of the generator.\n",
              "    outputElement.lastPromiseValue = value;\n",
              "    return next.value.response;\n",
              "  });\n",
              "}\n",
              "\n",
              "/**\n",
              " * Generator function which is called between each async step of the upload\n",
              " * process.\n",
              " * @param {string} inputId Element ID of the input file picker element.\n",
              " * @param {string} outputId Element ID of the output display.\n",
              " * @return {!Iterable<!Object>} Iterable of next steps.\n",
              " */\n",
              "function* uploadFilesStep(inputId, outputId) {\n",
              "  const inputElement = document.getElementById(inputId);\n",
              "  inputElement.disabled = false;\n",
              "\n",
              "  const outputElement = document.getElementById(outputId);\n",
              "  outputElement.innerHTML = '';\n",
              "\n",
              "  const pickedPromise = new Promise((resolve) => {\n",
              "    inputElement.addEventListener('change', (e) => {\n",
              "      resolve(e.target.files);\n",
              "    });\n",
              "  });\n",
              "\n",
              "  const cancel = document.createElement('button');\n",
              "  inputElement.parentElement.appendChild(cancel);\n",
              "  cancel.textContent = 'Cancel upload';\n",
              "  const cancelPromise = new Promise((resolve) => {\n",
              "    cancel.onclick = () => {\n",
              "      resolve(null);\n",
              "    };\n",
              "  });\n",
              "\n",
              "  // Wait for the user to pick the files.\n",
              "  const files = yield {\n",
              "    promise: Promise.race([pickedPromise, cancelPromise]),\n",
              "    response: {\n",
              "      action: 'starting',\n",
              "    }\n",
              "  };\n",
              "\n",
              "  cancel.remove();\n",
              "\n",
              "  // Disable the input element since further picks are not allowed.\n",
              "  inputElement.disabled = true;\n",
              "\n",
              "  if (!files) {\n",
              "    return {\n",
              "      response: {\n",
              "        action: 'complete',\n",
              "      }\n",
              "    };\n",
              "  }\n",
              "\n",
              "  for (const file of files) {\n",
              "    const li = document.createElement('li');\n",
              "    li.append(span(file.name, {fontWeight: 'bold'}));\n",
              "    li.append(span(\n",
              "        `(${file.type || 'n/a'}) - ${file.size} bytes, ` +\n",
              "        `last modified: ${\n",
              "            file.lastModifiedDate ? file.lastModifiedDate.toLocaleDateString() :\n",
              "                                    'n/a'} - `));\n",
              "    const percent = span('0% done');\n",
              "    li.appendChild(percent);\n",
              "\n",
              "    outputElement.appendChild(li);\n",
              "\n",
              "    const fileDataPromise = new Promise((resolve) => {\n",
              "      const reader = new FileReader();\n",
              "      reader.onload = (e) => {\n",
              "        resolve(e.target.result);\n",
              "      };\n",
              "      reader.readAsArrayBuffer(file);\n",
              "    });\n",
              "    // Wait for the data to be ready.\n",
              "    let fileData = yield {\n",
              "      promise: fileDataPromise,\n",
              "      response: {\n",
              "        action: 'continue',\n",
              "      }\n",
              "    };\n",
              "\n",
              "    // Use a chunked sending to avoid message size limits. See b/62115660.\n",
              "    let position = 0;\n",
              "    do {\n",
              "      const length = Math.min(fileData.byteLength - position, MAX_PAYLOAD_SIZE);\n",
              "      const chunk = new Uint8Array(fileData, position, length);\n",
              "      position += length;\n",
              "\n",
              "      const base64 = btoa(String.fromCharCode.apply(null, chunk));\n",
              "      yield {\n",
              "        response: {\n",
              "          action: 'append',\n",
              "          file: file.name,\n",
              "          data: base64,\n",
              "        },\n",
              "      };\n",
              "\n",
              "      let percentDone = fileData.byteLength === 0 ?\n",
              "          100 :\n",
              "          Math.round((position / fileData.byteLength) * 100);\n",
              "      percent.textContent = `${percentDone}% done`;\n",
              "\n",
              "    } while (position < fileData.byteLength);\n",
              "  }\n",
              "\n",
              "  // All done.\n",
              "  yield {\n",
              "    response: {\n",
              "      action: 'complete',\n",
              "    }\n",
              "  };\n",
              "}\n",
              "\n",
              "scope.google = scope.google || {};\n",
              "scope.google.colab = scope.google.colab || {};\n",
              "scope.google.colab._files = {\n",
              "  _uploadFiles,\n",
              "  _uploadFilesContinue,\n",
              "};\n",
              "})(self);\n",
              "</script> "
            ],
            "text/plain": [
              "<IPython.core.display.HTML object>"
            ]
          },
          "metadata": {},
          "output_type": "display_data"
        }
      ],
      "source": [
        "# Passo 2: fazendo upload do nosso arquivo\n",
        "upload = files.upload()"
      ]
    },
    {
      "cell_type": "code",
      "execution_count": null,
      "metadata": {
        "id": "mXtdgYi7gkWe"
      },
      "outputs": [],
      "source": [
        "# Passo 3: Abrindo a biblioteca para a EXTRAÇÃO do nosso conjunto de dados\n",
        "import pandas as pd"
      ]
    },
    {
      "cell_type": "code",
      "execution_count": null,
      "metadata": {
        "id": "dfMN3RIogp8z"
      },
      "outputs": [],
      "source": [
        "# Passo 4: Extração da informação via pandas\n",
        "df = pd.read_csv('/content/youtube_bruto.csv')"
      ]
    },
    {
      "cell_type": "code",
      "execution_count": null,
      "metadata": {
        "id": "Jf6VGVkFjRs_"
      },
      "outputs": [],
      "source": [
        "# Passo 5: Mostrando o dataframe\n",
        "df"
      ]
    },
    {
      "cell_type": "code",
      "execution_count": null,
      "metadata": {
        "id": "w0k65vYejZbR"
      },
      "outputs": [],
      "source": [
        "# Passo 6: Consideraremos que o tratamento/transformação foi realizado"
      ]
    },
    {
      "cell_type": "code",
      "execution_count": null,
      "metadata": {
        "id": "pyDL3rs6jd3r"
      },
      "outputs": [],
      "source": [
        "# Passo 7: Exportando ao Google Drive\n",
        "df.to_csv('youtube_tratado.csv')"
      ]
    },
    {
      "cell_type": "code",
      "execution_count": null,
      "metadata": {
        "id": "csYgbaYx4-EP"
      },
      "outputs": [],
      "source": [
        "from google.colab import drive\n",
        "drive.mount('/content/drive')"
      ]
    },
    {
      "cell_type": "code",
      "execution_count": null,
      "metadata": {
        "id": "wUxrAM-Ijo6O"
      },
      "outputs": [],
      "source": [
        "# Passo 8: Faça o download dos seus dados para sua máquina pessoal"
      ]
    },
    {
      "cell_type": "markdown",
      "metadata": {
        "id": "nfQ_ci5pQt4k"
      },
      "source": [
        "#**Google Drive com salvamento em pasta**\n",
        "\n"
      ]
    },
    {
      "cell_type": "code",
      "execution_count": null,
      "metadata": {
        "id": "zKwSGraFRQQM"
      },
      "outputs": [],
      "source": [
        "# Passo 1: Comando de abertura para google drive\n",
        "from google.colab import drive\n",
        "drive.mount('/content/drive')"
      ]
    },
    {
      "cell_type": "code",
      "execution_count": null,
      "metadata": {
        "id": "5eCJUH8Zdhc1"
      },
      "outputs": [],
      "source": [
        "# Passo 2: Abrindo a biblioteca para EXTRAÇÃO do nosso dataset\n",
        "import pandas as pd"
      ]
    },
    {
      "cell_type": "code",
      "execution_count": null,
      "metadata": {
        "id": "rl1OfTDkRZTJ"
      },
      "outputs": [],
      "source": [
        "# Passo 3: Extração da informação via pandas\n",
        "df = pd.read_csv('/content/drive/MyDrive/Dados_Youtube/youtube_bruto (1).csv')"
      ]
    },
    {
      "cell_type": "code",
      "execution_count": null,
      "metadata": {
        "id": "YfT_G3LGRdEr"
      },
      "outputs": [],
      "source": [
        "# Passo 4: Observando o dataframe\n",
        "df"
      ]
    },
    {
      "cell_type": "code",
      "execution_count": null,
      "metadata": {
        "id": "JXgaHJo5Rk55"
      },
      "outputs": [],
      "source": [
        "# Passo 5: Neste passo será feito no futuro a transformação de dados via pandas"
      ]
    },
    {
      "cell_type": "code",
      "execution_count": null,
      "metadata": {
        "id": "8BiUOwNqdi7Q"
      },
      "outputs": [],
      "source": [
        "# Passo 6: Exportação a pasta do Google Drive\n",
        "df.to_csv('/content/drive/MyDrive/Dados_Youtube/youtube_tratado.csv')"
      ]
    },
    {
      "cell_type": "markdown",
      "metadata": {
        "id": "_sYlCxydWO9o"
      },
      "source": [
        "##**BigQuery**"
      ]
    },
    {
      "cell_type": "code",
      "execution_count": null,
      "metadata": {
        "id": "IqseF2flWVB2"
      },
      "outputs": [],
      "source": [
        "# Passo 1: Autenticando o usuário no Google Colab\n",
        "from google.colab import auth\n",
        "auth.authenticate_user()\n",
        "print('Authenticated')"
      ]
    },
    {
      "cell_type": "code",
      "execution_count": null,
      "metadata": {
        "id": "t5rVLOj1WrM2"
      },
      "outputs": [],
      "source": [
        "# Passo 2: Importando a biblioteca cliente do Google BigQuery em um ambiente Python\n",
        "from google.cloud import bigquery\n",
        "import pandas as pd\n",
        "import pandas_gbq"
      ]
    },
    {
      "cell_type": "code",
      "execution_count": null,
      "metadata": {
        "id": "YCRR1EfXWuYf"
      },
      "outputs": [],
      "source": [
        "# Passo 3: Informando o nome do projeto\n",
        "project_id = 'curso-422221'\n",
        "client = bigquery.Client(project=project_id)"
      ]
    },
    {
      "cell_type": "code",
      "execution_count": null,
      "metadata": {
        "id": "d5kt30LuXaPV"
      },
      "outputs": [],
      "source": [
        "# Passo 4: realizando a conexação da consulta com a bigquery\n",
        "query_extracao = client.query('SELECT * FROM `curso-422221.Youtube.Youtube_Bruto`')"
      ]
    },
    {
      "cell_type": "code",
      "execution_count": null,
      "metadata": {
        "id": "WYVSW6NQZBT5"
      },
      "outputs": [],
      "source": [
        "# Passo 5: Lendo o conjunto de dados\n",
        "query_extracao"
      ]
    },
    {
      "cell_type": "code",
      "execution_count": null,
      "metadata": {
        "id": "t5ODTlJMZMlu"
      },
      "outputs": [],
      "source": [
        "# Passo 6: Convertendo a nossa consulta em um DataFrame\n",
        "df = query_extracao.to_dataframe()"
      ]
    },
    {
      "cell_type": "code",
      "execution_count": null,
      "metadata": {
        "id": "YjjUqUhYZQGk"
      },
      "outputs": [],
      "source": [
        "# Passo 7: Ver o dataframe\n",
        "df"
      ]
    },
    {
      "cell_type": "code",
      "execution_count": null,
      "metadata": {
        "id": "0OhMRB1_ZrrB"
      },
      "outputs": [],
      "source": [
        "# Passo 8: Fase de transformação dos dados via pandas"
      ]
    },
    {
      "cell_type": "code",
      "execution_count": null,
      "metadata": {
        "id": "XPKDbT2WZsrs"
      },
      "outputs": [],
      "source": [
        "# Passo 9: é necessário ir na bigquery e criar uma tabela em branco e copiar o ID clicando nos tres pontinhos"
      ]
    },
    {
      "cell_type": "code",
      "execution_count": null,
      "metadata": {
        "id": "Kg6VJ5l7Z0gU"
      },
      "outputs": [],
      "source": [
        "# Passo 10: Coloque o caminho da tabela do Bigquery onde você carregará seus dados\n",
        "table_id = 'curso-422221.Youtube.Youtube_Tratado'"
      ]
    },
    {
      "cell_type": "code",
      "execution_count": null,
      "metadata": {
        "id": "Uj_zBhFVagHF"
      },
      "outputs": [],
      "source": [
        "# Passo 11: Carregando dados na Bigquery\n",
        "pandas_gbq.to_gbq(df, table_id, project_id=project_id)"
      ]
    },
    {
      "cell_type": "markdown",
      "metadata": {
        "id": "pNvc_GfImema"
      },
      "source": [
        "## **Google Cloud - Cloud Storage**"
      ]
    },
    {
      "cell_type": "code",
      "execution_count": null,
      "metadata": {
        "id": "uFQ0WyM2b7qY"
      },
      "outputs": [],
      "source": [
        "# Passo 1: Comando de abertura para google drive\n",
        "from google.colab import drive\n",
        "drive.mount('/content/drive')"
      ]
    },
    {
      "cell_type": "code",
      "execution_count": null,
      "metadata": {
        "id": "HSA-8kWlcLyz"
      },
      "outputs": [],
      "source": [
        "# Passo 2: instalação de pacote\n",
        "!pip install gcsfs"
      ]
    },
    {
      "cell_type": "code",
      "execution_count": null,
      "metadata": {
        "id": "MEQcjmYXcTXk"
      },
      "outputs": [],
      "source": [
        "# Passo 3: importando bibliotecas\n",
        "import os\n",
        "import pandas as pd\n",
        "from google.cloud import storage"
      ]
    },
    {
      "cell_type": "code",
      "execution_count": null,
      "metadata": {
        "id": "8WN-e_PucUsO"
      },
      "outputs": [],
      "source": [
        "# Passo 4: CONFIGURANDO DA CHAVE DE SEGURANCA - ACESSO O PROJETO\n",
        "serviceAccount = '/content/drive/MyDrive/Chaves/curso-422221-b5c8d1d6b4dc.json'\n",
        "os.environ['GOOGLE_APPLICATION_CREDENTIALS'] = serviceAccount"
      ]
    },
    {
      "cell_type": "code",
      "execution_count": null,
      "metadata": {
        "id": "Ndg_BGlEcinx"
      },
      "outputs": [],
      "source": [
        "# Passo 5: Configurações Google Cloud Storage - ACESSO AO BUCKET\n",
        "client = storage.Client()                                                  # Autenticação do cliente\n",
        "bucket = client.get_bucket('dados_youtube')                                # nome do bucket\n",
        "bucket.blob('youtube_bruto.csv')                                           # nome do arquivo\n",
        "path = 'gs://dados_youtube/bruto/youtube_bruto.csv'"
      ]
    },
    {
      "cell_type": "code",
      "execution_count": null,
      "metadata": {
        "id": "8sUI-KlOcwJU"
      },
      "outputs": [],
      "source": [
        "# Passo 6: Abertura da base de dados\n",
        "df = pd.read_csv(path)"
      ]
    },
    {
      "cell_type": "code",
      "execution_count": null,
      "metadata": {
        "id": "06-2pjJScyou"
      },
      "outputs": [],
      "source": [
        "# Passo 7: Ver o dataframe\n",
        "df"
      ]
    },
    {
      "cell_type": "code",
      "execution_count": null,
      "metadata": {
        "id": "X77MhKIic5hK"
      },
      "outputs": [],
      "source": [
        "# Passo 8: Fase de transformação dos dados via pandas"
      ]
    },
    {
      "cell_type": "code",
      "execution_count": null,
      "metadata": {
        "id": "96M5J0YPCSq5"
      },
      "outputs": [],
      "source": [
        "# Passo 9: Fase de Carregamento no Bucket - copie link Gsutil Uri e troque para tratado\n",
        "df.to_csv('         ', index=True)"
      ]
    },
    {
      "cell_type": "code",
      "execution_count": null,
      "metadata": {
        "id": "fOMnQKVszNmj"
      },
      "outputs": [],
      "source": [
        "##  Pegando a tabela diretamente do projeto, e não de um bucket\n",
        "\n",
        "from google.cloud import bigquery\n",
        "\n",
        "# Autenticação do cliente com as credenciais padrão\n",
        "client = bigquery.Client(project='curso-422221')\n",
        "\n",
        "# Configura o caminho completo do dataset e da tabela\n",
        "table_id = 'curso-422221.Youtube.Youtube_Bruto'\n",
        "\n",
        "# API request - Fetch the table\n",
        "table = client.get_table(table_id)\n",
        "\n",
        "print(\"Got table '{}.{}.{}'.\".format(table.project, table.dataset_id, table.table_id))\n"
      ]
    },
    {
      "cell_type": "markdown",
      "metadata": {
        "id": "ZB97Qv6Pkp06"
      },
      "source": [
        "# **MongoDB**"
      ]
    },
    {
      "cell_type": "code",
      "execution_count": null,
      "metadata": {
        "id": "VkQ21dqXnRLy"
      },
      "outputs": [],
      "source": [
        "# Passo 1: Comando de abertura para google drive\n",
        "from google.colab import drive\n",
        "drive.mount('/content/drive')\n"
      ]
    },
    {
      "cell_type": "code",
      "execution_count": null,
      "metadata": {
        "id": "jsVjf0Bu-FLd"
      },
      "outputs": [],
      "source": [
        "# Passo 2: Instalação de Pacotes\n",
        "!pip install pymongo\n",
        "!python -m pip install \"pymongo[srv]\""
      ]
    },
    {
      "cell_type": "code",
      "execution_count": null,
      "metadata": {
        "id": "b6ryi5oy_EG8"
      },
      "outputs": [],
      "source": [
        "# Passo 3: Importação de biblioteca\n",
        "import pymongo\n",
        "import pandas as pd\n",
        "from pymongo import MongoClient\n",
        "from pymongo.server_api import ServerApi"
      ]
    },
    {
      "cell_type": "code",
      "execution_count": null,
      "metadata": {
        "id": "PaODIdFjAn9I"
      },
      "outputs": [],
      "source": [
        "## Essa é a chaave do MongoDB\n",
        "\n",
        "##from pymongo import MongoClient\n",
        "\n",
        "## uri = \"mongodb+srv://cluster0.nietzyu.mongodb.net/?authSource=%24external&authMechanism=MONGODB-X509&retryWrites=true&w=majority\"\n",
        "##client = MongoClient(uri,\n",
        "                     #tls=True,\n",
        "                    # tlsCertificateKeyFile='<path_to_certificate>',\n",
        "                    # server_api=ServerApi('1'))\n",
        "\n",
        "#db = client['testDB']\n",
        "#collection = db['testCol']\n",
        "#doc_count = collection.count_documents({})\n",
        "#print(doc_count)"
      ]
    },
    {
      "cell_type": "code",
      "execution_count": null,
      "metadata": {
        "id": "R5BS2SyhFMuU"
      },
      "outputs": [],
      "source": [
        "# Passo 5: Conectando ao Mongo\n",
        "uri = \"mongodb+srv://cluster0.nietzyu.mongodb.net/?authSource=%24external&authMechanism=MONGODB-X509&retryWrites=true&w=majority\"\n",
        "client = MongoClient(uri,\n",
        "                     tls=True,\n",
        "                     tlsCertificateKeyFile='/content/drive/MyDrive/Chaves/X509-cert-4468031201061825636.pem',\n",
        "                     server_api=ServerApi('1'))\n",
        "\n",
        "db = client['testDB']\n",
        "collection = db['testCol']\n",
        "doc_count = collection.count_documents({})\n",
        "print(doc_count)"
      ]
    },
    {
      "cell_type": "code",
      "execution_count": null,
      "metadata": {
        "id": "HRSVb0k3Hmq0"
      },
      "outputs": [],
      "source": [
        "# Passo 6: Montagem da pasta para carregamento dos dados brutos para garantir redundância\n",
        "db = client['youtube']\n",
        "collection = db['bruto']"
      ]
    },
    {
      "cell_type": "code",
      "execution_count": null,
      "metadata": {
        "id": "_uXKWj7QI3f0"
      },
      "outputs": [],
      "source": [
        "# Passo 7: Verificação de arquivos (na saída de código tem que dar zero)\n",
        "doc_count = collection.count_documents({})\n",
        "print(doc_count)"
      ]
    },
    {
      "cell_type": "code",
      "execution_count": null,
      "metadata": {
        "id": "Pa1zTSHWJEnh"
      },
      "outputs": [],
      "source": [
        "# Passo 8: Abertura da base de dados\n",
        "df = pd.read_csv('/content/drive/MyDrive/Dados_Youtube/youtube_bruto (1).csv')"
      ]
    },
    {
      "cell_type": "code",
      "execution_count": null,
      "metadata": {
        "id": "7gtYNiifKIza"
      },
      "outputs": [],
      "source": [
        "# Passo 9: Ver o dataframe\n",
        "df"
      ]
    },
    {
      "cell_type": "code",
      "execution_count": null,
      "metadata": {
        "id": "OZ32ngeMKdAq"
      },
      "outputs": [],
      "source": [
        "# Passo 10: Conversão para colocar os dados no MongoDB\n",
        "df_dict = df.to_dict(\"records\")\n",
        "collection.insert_many(df_dict)"
      ]
    },
    {
      "cell_type": "code",
      "execution_count": null,
      "metadata": {
        "id": "OWV8Aj7ZKu0q"
      },
      "outputs": [],
      "source": [
        "# Passo 11: Checagem de valores no MongoDB\n",
        "collection.count_documents({})"
      ]
    },
    {
      "cell_type": "code",
      "execution_count": null,
      "metadata": {
        "id": "JQUYpSF3Nttq"
      },
      "outputs": [],
      "source": [
        "# Passo 12: Checagem da coleção do MongoDB\n",
        "for x in collection.find():\n",
        "  print(x)"
      ]
    },
    {
      "cell_type": "code",
      "execution_count": null,
      "metadata": {
        "id": "Lbw_RybYN0Hp"
      },
      "outputs": [],
      "source": [
        "# Passo 13: Fase de transformação dos dados via pandas"
      ]
    },
    {
      "cell_type": "code",
      "execution_count": null,
      "metadata": {
        "id": "69OkKdwFN3_L"
      },
      "outputs": [],
      "source": [
        "# Passo 14: Montagem de pasta para carregamento no MongoDB dos dados tratados\n",
        "db2 = client['youtube']\n",
        "collection2 = db2['tratado']\n",
        "collection2.count_documents({})"
      ]
    },
    {
      "cell_type": "code",
      "execution_count": null,
      "metadata": {
        "id": "yKr_qdgtOJx4"
      },
      "outputs": [],
      "source": [
        "#Passo 15: Conversão de dados para MongoDB e carregamento na pasta correspondente\n",
        "df_dict = df.to_dict(\"records\")\n",
        "collection2.insert_many(df_dict)"
      ]
    },
    {
      "cell_type": "code",
      "execution_count": null,
      "metadata": {
        "id": "t_2BzIQvOpkN"
      },
      "outputs": [],
      "source": [
        "# Passo 16: Contagem de dados: verificação\n",
        "collection2.count_documents({})"
      ]
    },
    {
      "cell_type": "code",
      "execution_count": null,
      "metadata": {
        "id": "omoJMTZWOywb"
      },
      "outputs": [],
      "source": [
        "# Passo 17: Checagem da coleção\n",
        "for x in collection2.find():\n",
        "  print(x)"
      ]
    },
    {
      "cell_type": "markdown",
      "metadata": {
        "id": "VSFtp09fU26_"
      },
      "source": [
        "#**Google Sheet**"
      ]
    },
    {
      "cell_type": "code",
      "execution_count": null,
      "metadata": {
        "id": "jA5CvdKhU8Sn"
      },
      "outputs": [],
      "source": [
        "# Passo 1: Comando de abertura para Google Drive\n",
        "from google.colab import drive\n",
        "drive.mount('/content/drive')"
      ]
    },
    {
      "cell_type": "code",
      "execution_count": null,
      "metadata": {
        "id": "Wo7xjOxVVQqn"
      },
      "outputs": [],
      "source": [
        "# Passo 2: Instalação de Pacotes\n",
        "!pip install gspread"
      ]
    },
    {
      "cell_type": "code",
      "execution_count": null,
      "metadata": {
        "id": "8IYAvSSXV5bF"
      },
      "outputs": [],
      "source": [
        "# Passo 3: Importação de biblioteca\n",
        "import pandas as pd\n",
        "from google.colab import auth\n",
        "from google.auth import default\n",
        "import gspread"
      ]
    },
    {
      "cell_type": "code",
      "execution_count": null,
      "metadata": {
        "id": "s2wbI9spWFpq"
      },
      "outputs": [],
      "source": [
        "# Passo 4: Autenticação\n",
        "auth.authenticate_user()\n",
        "creds, _ = default()\n",
        "gc = gspread.authorize(creds)"
      ]
    },
    {
      "cell_type": "code",
      "execution_count": null,
      "metadata": {
        "id": "Snad3QFUXKv3"
      },
      "outputs": [],
      "source": [
        "# Passo 5: Abertura da planilha\n",
        "sh = gc.open_by_url('https://docs.google.com/spreadsheets/d/1CA9tiYOZiYjaSxlPqUL-NA65MG1O2ufVphqKQlXQ1ck/edit?usp=drive_link')\n",
        "worksheet = sh.get_worksheet(0)  # Substitua 0 pelo índice da aba que você deseja ler"
      ]
    },
    {
      "cell_type": "code",
      "execution_count": null,
      "metadata": {
        "id": "_6qYCPTNYBFx"
      },
      "outputs": [],
      "source": [
        "# Passo 6: Leitura dos dados\n",
        "df = pd.DataFrame(worksheet.get_all_records())"
      ]
    },
    {
      "cell_type": "code",
      "execution_count": null,
      "metadata": {
        "id": "01bigNlZYOtC"
      },
      "outputs": [],
      "source": [
        "# Passo 7: Abra os dados\n",
        "df"
      ]
    },
    {
      "cell_type": "code",
      "execution_count": null,
      "metadata": {
        "id": "miSXU0i-ZfRR"
      },
      "outputs": [],
      "source": [
        "# Passo 8: Fase de transformação dos dados via pandas"
      ]
    },
    {
      "cell_type": "code",
      "execution_count": null,
      "metadata": {
        "id": "g5VAuGTPZooF"
      },
      "outputs": [],
      "source": [
        "# Passo 9: abra uma planilhagoogle sheets em branco com nome youtube_tratado"
      ]
    },
    {
      "cell_type": "code",
      "execution_count": null,
      "metadata": {
        "id": "JzyFdztwZ6wY"
      },
      "outputs": [],
      "source": [
        "# Passo 10: Acessar planilha que vai receber os dados\n",
        "planilha = gc.open('Youtube_Tratado')"
      ]
    },
    {
      "cell_type": "code",
      "execution_count": null,
      "metadata": {
        "id": "ljAEdz0vah1d"
      },
      "outputs": [],
      "source": [
        "# Passo 11: Acesse as guias da planilha usando o método worksheet\n",
        "youtube_tratado = planilha.worksheet('Página 1')"
      ]
    },
    {
      "cell_type": "code",
      "execution_count": null,
      "metadata": {
        "id": "egGPik5ubKY5"
      },
      "outputs": [],
      "source": [
        "# Passo 12: Carregamento\n",
        "youtube_tratado.update([df.columns.values.tolist()] + df.values.tolist())"
      ]
    }
  ],
  "metadata": {
    "colab": {
      "provenance": [],
      "mount_file_id": "1cgorRvF05F16Vdlv3o26YcpuG-B0tqhR",
      "authorship_tag": "ABX9TyMVCw9OB3clB4zZuEvGfv38",
      "include_colab_link": true
    },
    "kernelspec": {
      "display_name": "Python 3",
      "name": "python3"
    },
    "language_info": {
      "name": "python"
    }
  },
  "nbformat": 4,
  "nbformat_minor": 0
}